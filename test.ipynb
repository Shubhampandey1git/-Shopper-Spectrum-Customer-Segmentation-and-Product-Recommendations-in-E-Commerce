{
 "cells": [
  {
   "cell_type": "markdown",
   "id": "e886ad97",
   "metadata": {},
   "source": [
    "## Project Title: \n",
    "## *🛒 Shopper Spectrum: Customer Segmentation and Product Recommendations in E-Commerce*"
   ]
  },
  {
   "cell_type": "markdown",
   "id": "c3585288",
   "metadata": {},
   "source": [
    "## By Shubham Pandey"
   ]
  },
  {
   "cell_type": "markdown",
   "id": "b9265b66",
   "metadata": {},
   "source": [
    "## Problem Type:\n",
    "#### *●\tUnsupervised Machine Learning – Clustering*\n",
    "#### *●\tCollaborative Filtering – Recommendation System*"
   ]
  },
  {
   "cell_type": "markdown",
   "id": "bb0e222c",
   "metadata": {},
   "source": [
    "## Problem Statement:\n",
    "#### *The global e-commerce industry generates vast amounts of transaction data daily, offering valuable insights into customer purchasing behaviors. Analyzing this data is essential for identifying meaningful customer segments and recommending relevant products to enhance customer experience and drive business growth. This project aims to examine transaction data from an online retail business to uncover patterns in customer purchase behavior, segment customers based on Recency, Frequency, and Monetary (RFM) analysis, and develop a product recommendation system using collaborative filtering techniques.*"
   ]
  },
  {
   "cell_type": "markdown",
   "id": "9f24b44c",
   "metadata": {},
   "source": [
    "## Git-hub Link:\n",
    "#### *https://github.com/Shubhampandey1git/-Shopper-Spectrum-Customer-Segmentation-and-Product-Recommendations-in-E-Commerce*"
   ]
  },
  {
   "cell_type": "markdown",
   "id": "07b2b28d",
   "metadata": {},
   "source": [
    "# **Imports**"
   ]
  },
  {
   "cell_type": "code",
   "execution_count": 1,
   "id": "013b1ab8",
   "metadata": {},
   "outputs": [],
   "source": [
    "import pandas as pd"
   ]
  },
  {
   "cell_type": "markdown",
   "id": "d4e5d0b8",
   "metadata": {},
   "source": [
    "# **1. Dataset Collection and Understanding** "
   ]
  },
  {
   "cell_type": "markdown",
   "id": "1202b202",
   "metadata": {},
   "source": [
    "***Loading the dataset; Checking the Top rows, data types, missing values and summary stats***"
   ]
  },
  {
   "cell_type": "code",
   "execution_count": 2,
   "id": "3920432e",
   "metadata": {},
   "outputs": [
    {
     "name": "stdout",
     "output_type": "stream",
     "text": [
      "  InvoiceNo StockCode                          Description  Quantity  \\\n",
      "0    536365    85123A   WHITE HANGING HEART T-LIGHT HOLDER         6   \n",
      "1    536365     71053                  WHITE METAL LANTERN         6   \n",
      "2    536365    84406B       CREAM CUPID HEARTS COAT HANGER         8   \n",
      "3    536365    84029G  KNITTED UNION FLAG HOT WATER BOTTLE         6   \n",
      "4    536365    84029E       RED WOOLLY HOTTIE WHITE HEART.         6   \n",
      "\n",
      "           InvoiceDate  UnitPrice  CustomerID         Country  \n",
      "0  2022-12-01 08:26:00       2.55     17850.0  United Kingdom  \n",
      "1  2022-12-01 08:26:00       3.39     17850.0  United Kingdom  \n",
      "2  2022-12-01 08:26:00       2.75     17850.0  United Kingdom  \n",
      "3  2022-12-01 08:26:00       3.39     17850.0  United Kingdom  \n",
      "4  2022-12-01 08:26:00       3.39     17850.0  United Kingdom  \n",
      "<class 'pandas.core.frame.DataFrame'>\n",
      "RangeIndex: 541909 entries, 0 to 541908\n",
      "Data columns (total 8 columns):\n",
      " #   Column       Non-Null Count   Dtype  \n",
      "---  ------       --------------   -----  \n",
      " 0   InvoiceNo    541909 non-null  object \n",
      " 1   StockCode    541909 non-null  object \n",
      " 2   Description  540455 non-null  object \n",
      " 3   Quantity     541909 non-null  int64  \n",
      " 4   InvoiceDate  541909 non-null  object \n",
      " 5   UnitPrice    541909 non-null  float64\n",
      " 6   CustomerID   406829 non-null  float64\n",
      " 7   Country      541909 non-null  object \n",
      "dtypes: float64(2), int64(1), object(5)\n",
      "memory usage: 33.1+ MB\n",
      "None\n",
      "       InvoiceNo StockCode                         Description       Quantity  \\\n",
      "count     541909    541909                              540455  541909.000000   \n",
      "unique     25900      4070                                4223            NaN   \n",
      "top       573585    85123A  WHITE HANGING HEART T-LIGHT HOLDER            NaN   \n",
      "freq        1114      2313                                2369            NaN   \n",
      "mean         NaN       NaN                                 NaN       9.552250   \n",
      "std          NaN       NaN                                 NaN     218.081158   \n",
      "min          NaN       NaN                                 NaN  -80995.000000   \n",
      "25%          NaN       NaN                                 NaN       1.000000   \n",
      "50%          NaN       NaN                                 NaN       3.000000   \n",
      "75%          NaN       NaN                                 NaN      10.000000   \n",
      "max          NaN       NaN                                 NaN   80995.000000   \n",
      "\n",
      "                InvoiceDate      UnitPrice     CustomerID         Country  \n",
      "count                541909  541909.000000  406829.000000          541909  \n",
      "unique                23260            NaN            NaN              38  \n",
      "top     2023-10-31 14:41:00            NaN            NaN  United Kingdom  \n",
      "freq                   1114            NaN            NaN          495478  \n",
      "mean                    NaN       4.611114   15287.690570             NaN  \n",
      "std                     NaN      96.759853    1713.600303             NaN  \n",
      "min                     NaN  -11062.060000   12346.000000             NaN  \n",
      "25%                     NaN       1.250000   13953.000000             NaN  \n",
      "50%                     NaN       2.080000   15152.000000             NaN  \n",
      "75%                     NaN       4.130000   16791.000000             NaN  \n",
      "max                     NaN   38970.000000   18287.000000             NaN  \n"
     ]
    }
   ],
   "source": [
    "# Loading the dataset\n",
    "df = pd.read_csv('online_retail.csv')\n",
    "\n",
    "# Printing the top 5 rows\n",
    "print(df.head())\n",
    "\n",
    "# Getting the data types and missing values\n",
    "print(df.info())\n",
    "\n",
    "# Getting the summary stats\n",
    "print(df.describe(include='all'))"
   ]
  },
  {
   "cell_type": "markdown",
   "id": "34f15d24",
   "metadata": {},
   "source": [
    "***Observations:***\n",
    "1. Missing Customer IDs\n",
    "2. Negative Quantity and UnitPrice\n",
    "3. Some InvoiceNo start with 'C'\n",
    "4. Date column is still a string"
   ]
  },
  {
   "cell_type": "markdown",
   "id": "786bff78",
   "metadata": {},
   "source": [
    "# **2. Data Preprocessing**"
   ]
  },
  {
   "cell_type": "markdown",
   "id": "8aceb0c8",
   "metadata": {},
   "source": [
    "***Cleaning the data:***\n",
    "1. Removing the rows with missing CustomerIDs\n",
    "2. Removing canceled transactions\n",
    "3. Removing negative or zero quantities and prices\n",
    "4. Converting the InvoiceDate to datetime"
   ]
  },
  {
   "cell_type": "code",
   "execution_count": 5,
   "id": "52664c34",
   "metadata": {},
   "outputs": [],
   "source": [
    "# Removing the rows with missing CustomerID\n",
    "df_clean = df.dropna(subset=['CustomerID'])\n",
    "\n",
    "# Removing cancelled transactions  (InvoiceNos starting with 'C')\n",
    "df_clean = df_clean[~df_clean['InvoiceNo'].astype(str).str.startswith('C')]\n",
    "\n",
    "# Removing the rows with negative or zero quantity and prices\n",
    "df_clean = df_clean[(df_clean['Quantity'] > 0) & (df_clean['UnitPrice'] > 0)]\n",
    "\n",
    "# Convert InvoiceDate to datetime\n",
    "df_clean['InvoiceDate'] = pd.to_datetime(df_clean['InvoiceDate'])"
   ]
  },
  {
   "cell_type": "markdown",
   "id": "bd66d37f",
   "metadata": {},
   "source": [
    "***Checking for duplicates***"
   ]
  },
  {
   "cell_type": "code",
   "execution_count": 6,
   "id": "1b078202",
   "metadata": {},
   "outputs": [
    {
     "name": "stdout",
     "output_type": "stream",
     "text": [
      "Duplicate rows: 5192\n"
     ]
    }
   ],
   "source": [
    "duplicates = df_clean.duplicated().sum()\n",
    "print(f'Duplicate rows: {duplicates}')"
   ]
  },
  {
   "cell_type": "markdown",
   "id": "1e4bb3b9",
   "metadata": {},
   "source": [
    "***Removing the Duplicates***"
   ]
  },
  {
   "cell_type": "code",
   "execution_count": 7,
   "id": "1ee2a75d",
   "metadata": {},
   "outputs": [],
   "source": [
    "df_clean = df_clean.drop_duplicates()"
   ]
  },
  {
   "cell_type": "markdown",
   "id": "10d496fa",
   "metadata": {},
   "source": [
    "***Checking the final shape of the Data Frame***"
   ]
  },
  {
   "cell_type": "code",
   "execution_count": 11,
   "id": "0938d8aa",
   "metadata": {},
   "outputs": [
    {
     "name": "stdout",
     "output_type": "stream",
     "text": [
      "       InvoiceNo StockCode                         Description       Quantity  \\\n",
      "count     392692    392692                              392692  392692.000000   \n",
      "unique     18532      3665                                3877            NaN   \n",
      "top       576339    85123A  WHITE HANGING HEART T-LIGHT HOLDER            NaN   \n",
      "freq         542      2023                                2016            NaN   \n",
      "mean         NaN       NaN                                 NaN      13.119702   \n",
      "min          NaN       NaN                                 NaN       1.000000   \n",
      "25%          NaN       NaN                                 NaN       2.000000   \n",
      "50%          NaN       NaN                                 NaN       6.000000   \n",
      "75%          NaN       NaN                                 NaN      12.000000   \n",
      "max          NaN       NaN                                 NaN   80995.000000   \n",
      "std          NaN       NaN                                 NaN     180.492832   \n",
      "\n",
      "                          InvoiceDate      UnitPrice     CustomerID  \\\n",
      "count                          392692  392692.000000  392692.000000   \n",
      "unique                            NaN            NaN            NaN   \n",
      "top                               NaN            NaN            NaN   \n",
      "freq                              NaN            NaN            NaN   \n",
      "mean    2023-07-10 19:13:07.771892224       3.125914   15287.843865   \n",
      "min               2022-12-01 08:26:00       0.001000   12346.000000   \n",
      "25%               2023-04-07 11:12:00       1.250000   13955.000000   \n",
      "50%               2023-07-31 12:02:00       1.950000   15150.000000   \n",
      "75%               2023-10-20 12:53:00       3.750000   16791.000000   \n",
      "max               2023-12-09 12:50:00    8142.750000   18287.000000   \n",
      "std                               NaN      22.241836    1713.539549   \n",
      "\n",
      "               Country  \n",
      "count           392692  \n",
      "unique              37  \n",
      "top     United Kingdom  \n",
      "freq            349203  \n",
      "mean               NaN  \n",
      "min                NaN  \n",
      "25%                NaN  \n",
      "50%                NaN  \n",
      "75%                NaN  \n",
      "max                NaN  \n",
      "std                NaN  \n"
     ]
    }
   ],
   "source": [
    "print(df_clean.describe(include='all'))"
   ]
  },
  {
   "cell_type": "code",
   "execution_count": null,
   "id": "3e8af81b",
   "metadata": {},
   "outputs": [],
   "source": []
  }
 ],
 "metadata": {
  "kernelspec": {
   "display_name": "Python 3",
   "language": "python",
   "name": "python3"
  },
  "language_info": {
   "codemirror_mode": {
    "name": "ipython",
    "version": 3
   },
   "file_extension": ".py",
   "mimetype": "text/x-python",
   "name": "python",
   "nbconvert_exporter": "python",
   "pygments_lexer": "ipython3",
   "version": "3.10.9"
  }
 },
 "nbformat": 4,
 "nbformat_minor": 5
}
